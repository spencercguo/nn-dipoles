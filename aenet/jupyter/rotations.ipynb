{
 "cells": [
  {
   "cell_type": "code",
   "execution_count": 21,
   "metadata": {},
   "outputs": [],
   "source": [
    "import numpy as np\n",
    "import matplotlib.pyplot as plt"
   ]
  },
  {
   "cell_type": "code",
   "execution_count": 12,
   "metadata": {},
   "outputs": [],
   "source": [
    "dipole_file = '../../data/molecular_dipoles.dat'\n",
    "traj_file = '../../data/dft_traj-0.xyz'"
   ]
  },
  {
   "cell_type": "code",
   "execution_count": 3,
   "metadata": {},
   "outputs": [],
   "source": [
    "import sys"
   ]
  },
  {
   "cell_type": "code",
   "execution_count": 8,
   "metadata": {},
   "outputs": [],
   "source": [
    "sys.path.append('../../python')"
   ]
  },
  {
   "cell_type": "code",
   "execution_count": 11,
   "metadata": {},
   "outputs": [],
   "source": [
    "from utils import *"
   ]
  },
  {
   "cell_type": "code",
   "execution_count": 16,
   "metadata": {},
   "outputs": [],
   "source": [
    "with open(traj_file) as f:\n",
    "    xyz = read_xyz(f)[0]"
   ]
  },
  {
   "cell_type": "code",
   "execution_count": 17,
   "metadata": {},
   "outputs": [],
   "source": [
    "dipoles = read_molecular_dipoles(dipole_file, 1)"
   ]
  },
  {
   "cell_type": "code",
   "execution_count": 18,
   "metadata": {},
   "outputs": [
    {
     "data": {
      "text/plain": [
       "(384, 3)"
      ]
     },
     "execution_count": 18,
     "metadata": {},
     "output_type": "execute_result"
    }
   ],
   "source": [
    "xyz.shape"
   ]
  },
  {
   "cell_type": "code",
   "execution_count": 19,
   "metadata": {},
   "outputs": [
    {
     "data": {
      "text/plain": [
       "(128, 3, 1)"
      ]
     },
     "execution_count": 19,
     "metadata": {},
     "output_type": "execute_result"
    }
   ],
   "source": [
    "dipoles.shape"
   ]
  },
  {
   "cell_type": "code",
   "execution_count": 25,
   "metadata": {},
   "outputs": [
    {
     "data": {
      "text/plain": [
       "(array([ 6., 14., 22., 27., 14., 23., 13.,  7.,  1.,  1.]),\n",
       " array([2.35321665, 2.47266968, 2.59212272, 2.71157575, 2.83102879,\n",
       "        2.95048182, 3.06993486, 3.18938789, 3.30884092, 3.42829396,\n",
       "        3.54774699]),\n",
       " <a list of 10 Patch objects>)"
      ]
     },
     "execution_count": 25,
     "metadata": {},
     "output_type": "execute_result"
    },
    {
     "data": {
      "image/png": "[encoded data removed]",
      "text/plain": [
       "<Figure size 432x288 with 1 Axes>"
      ]
     },
     "metadata": {
      "needs_background": "light"
     },
     "output_type": "display_data"
    }
   ],
   "source": [
    "plt.hist(np.linalg.norm(dipoles, axis=1))"
   ]
  },
  {
   "cell_type": "code",
   "execution_count": 40,
   "metadata": {},
   "outputs": [
    {
     "data": {
      "text/plain": [
       "(128, 3)"
      ]
     },
     "execution_count": 40,
     "metadata": {},
     "output_type": "execute_result"
    }
   ],
   "source": [
    "dipoles = dipoles[:,:,0]\n",
    "dipoles.shape"
   ]
  },
  {
   "cell_type": "code",
   "execution_count": 41,
   "metadata": {},
   "outputs": [],
   "source": [
    "def dipole_hist(i, dipoles):\n",
    "    start_idx = i * 3 # also the coordinates of the oxygen\n",
    "    masses = masses = (15.999, 1.00784, 1.00784)\n",
    "    r = com(masses, xyz[start_idx:(start_idx + 3)])\n",
    "\n",
    "    # translate so center of mass of relevant molecule is at origin\n",
    "    rot_xyz = xyz - r\n",
    "    \n",
    "    # principle axis goes through oxygen and COM\n",
    "    # rotate system first so that principle axis aligns with z-axis of box\n",
    "    R1 = np.zeros((3,3))\n",
    "    R_2vect(R1, rot_xyz[start_idx], (0, 0, 1))\n",
    "    rot_xyz = np.matmul(R1, rot_xyz.T).T\n",
    "\n",
    "    # secondary axis goes through hydrogens\n",
    "    # rotate projection around z-axis so O-H vectors are in xz plane\n",
    "    # angle in x-y plane\n",
    "    H_idx = start_idx + 1\n",
    "    theta = atan(rot_xyz[H_idx,1] / rot_xyz[H_idx,0])\n",
    "    # rotate about z-axis \n",
    "    R2 = R.from_euler('z', -theta)\n",
    "\n",
    "    # get dipole for molecule i and frame, then rotate\n",
    "    dipoles = np.matmul(R1, dipoles.T).T\n",
    "    dipoles = R2.apply(dipoles)\n",
    "\n",
    "    plt.hist(np.linalg.norm(dipoles, axis=1))"
   ]
  },
  {
   "cell_type": "code",
   "execution_count": 43,
   "metadata": {},
   "outputs": [
    {
     "data": {
      "image/png": "[encoded data removed]",
      "text/plain": [
       "<Figure size 432x288 with 1 Axes>"
      ]
     },
     "metadata": {
      "needs_background": "light"
     },
     "output_type": "display_data"
    }
   ],
   "source": [
    "dipole_hist(2, dipoles)"
   ]
  },
  {
   "cell_type": "code",
   "execution_count": 44,
   "metadata": {},
   "outputs": [
    {
     "data": {
      "image/png": "[encoded data removed]",
      "text/plain": [
       "<Figure size 432x288 with 1 Axes>"
      ]
     },
     "metadata": {
      "needs_background": "light"
     },
     "output_type": "display_data"
    }
   ],
   "source": [
    "dipole_hist(3,dipoles)"
   ]
  },
  {
   "cell_type": "code",
   "execution_count": null,
   "metadata": {},
   "outputs": [],
   "source": []
  }
 ],
 "metadata": {
  "kernelspec": {
   "display_name": "Python 3",
   "language": "python",
   "name": "python3"
  },
  "language_info": {
   "codemirror_mode": {
    "name": "ipython",
    "version": 3
   },
   "file_extension": ".py",
   "mimetype": "text/x-python",
   "name": "python",
   "nbconvert_exporter": "python",
   "pygments_lexer": "ipython3",
   "version": "3.7.5"
  }
 },
 "nbformat": 4,
 "nbformat_minor": 2
}
