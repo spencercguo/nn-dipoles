{
 "cells": [
  {
   "cell_type": "code",
   "execution_count": 3,
   "metadata": {},
   "outputs": [],
   "source": [
    "import numpy as np\n",
    "import matplotlib.pyplot as plt"
   ]
  },
  {
   "cell_type": "code",
   "execution_count": 4,
   "metadata": {},
   "outputs": [],
   "source": [
    "dipoles = np.load('/Users/Spencer/Documents/Research/Markland/ir-simul/data/molecular_dipoles.npy')"
   ]
  },
  {
   "cell_type": "code",
   "execution_count": 5,
   "metadata": {},
   "outputs": [
    {
     "data": {
      "text/plain": [
       "(128, 3, 10000)"
      ]
     },
     "execution_count": 5,
     "metadata": {},
     "output_type": "execute_result"
    }
   ],
   "source": [
    "dipoles.shape"
   ]
  },
  {
   "cell_type": "code",
   "execution_count": 6,
   "metadata": {},
   "outputs": [],
   "source": [
    "import MDAnalysis as mda"
   ]
  },
  {
   "cell_type": "code",
   "execution_count": 7,
   "metadata": {},
   "outputs": [],
   "source": [
    "top_file = '/Users/Spencer/Documents/Research/Markland/dftbplus/300K_water128_1.pdb'\n",
    "traj_file = '/Users/Spencer/Documents/Research/Markland/nn-dipoles/data/dft_traj-0.xyz'"
   ]
  },
  {
   "cell_type": "code",
   "execution_count": 8,
   "metadata": {},
   "outputs": [],
   "source": [
    "u = mda.Universe(top_file, traj_file)"
   ]
  },
  {
   "cell_type": "code",
   "execution_count": 9,
   "metadata": {},
   "outputs": [
    {
     "data": {
      "text/plain": [
       "<Universe with 384 atoms>"
      ]
     },
     "execution_count": 9,
     "metadata": {},
     "output_type": "execute_result"
    }
   ],
   "source": [
    "u"
   ]
  },
  {
   "cell_type": "code",
   "execution_count": 10,
   "metadata": {},
   "outputs": [],
   "source": [
    "traj = u.trajectory"
   ]
  },
  {
   "cell_type": "code",
   "execution_count": 11,
   "metadata": {},
   "outputs": [
    {
     "data": {
      "text/plain": [
       "384"
      ]
     },
     "execution_count": 11,
     "metadata": {},
     "output_type": "execute_result"
    }
   ],
   "source": [
    "traj.n_atoms"
   ]
  },
  {
   "cell_type": "code",
   "execution_count": 12,
   "metadata": {},
   "outputs": [
    {
     "data": {
      "text/plain": [
       "1"
      ]
     },
     "execution_count": 12,
     "metadata": {},
     "output_type": "execute_result"
    }
   ],
   "source": [
    "traj.n_frames"
   ]
  },
  {
   "cell_type": "code",
   "execution_count": 13,
   "metadata": {},
   "outputs": [],
   "source": [
    "# first frame of dipoles\n",
    "dip_1 = dipoles[:,:,0]"
   ]
  },
  {
   "cell_type": "code",
   "execution_count": 14,
   "metadata": {},
   "outputs": [
    {
     "data": {
      "text/plain": [
       "array([0.12659541, 0.4431529 , 0.17933868], dtype=float32)"
      ]
     },
     "execution_count": 14,
     "metadata": {},
     "output_type": "execute_result"
    }
   ],
   "source": [
    "dip_1[0]"
   ]
  },
  {
   "cell_type": "code",
   "execution_count": 15,
   "metadata": {},
   "outputs": [
    {
     "data": {
      "text/plain": [
       "array([[12.9818 ,  2.83852,  9.89372],\n",
       "       [12.9515 ,  2.5041 ,  8.96469],\n",
       "       [12.6956 ,  2.07051, 10.3957 ]], dtype=float32)"
      ]
     },
     "execution_count": 15,
     "metadata": {},
     "output_type": "execute_result"
    }
   ],
   "source": [
    "traj[0][:3]"
   ]
  },
  {
   "cell_type": "code",
   "execution_count": 16,
   "metadata": {},
   "outputs": [
    {
     "ename": "AttributeError",
     "evalue": "module 'MDAnalysis' has no attribute 'transformations'",
     "output_type": "error",
     "traceback": [
      "\u001b[0;31m---------------------------------------------------------------------------\u001b[0m",
      "\u001b[0;31mAttributeError\u001b[0m                            Traceback (most recent call last)",
      "\u001b[0;32m<ipython-input-16-75b7130ee9d4>\u001b[0m in \u001b[0;36m<module>\u001b[0;34m\u001b[0m\n\u001b[0;32m----> 1\u001b[0;31m \u001b[0mrotated\u001b[0m \u001b[0;34m=\u001b[0m \u001b[0mmda\u001b[0m\u001b[0;34m.\u001b[0m\u001b[0mtransformations\u001b[0m\u001b[0;34m\u001b[0m\u001b[0;34m\u001b[0m\u001b[0m\n\u001b[0m",
      "\u001b[0;31mAttributeError\u001b[0m: module 'MDAnalysis' has no attribute 'transformations'"
     ]
    }
   ],
   "source": [
    "rotated = mda.transformations"
   ]
  },
  {
   "cell_type": "markdown",
   "metadata": {},
   "source": [
    "Apparently MDAnalysis doesn't have its functions for rotations anymore..."
   ]
  },
  {
   "cell_type": "code",
   "execution_count": 17,
   "metadata": {},
   "outputs": [],
   "source": [
    "from collections import namedtuple\n",
    "\n",
    "__all__ = [\"read_xyz\", \"write_xyz\"]\n",
    "\n",
    "\n",
    "def read_xyz(fin):\n",
    "    \"\"\" read a xyz file from file handle\n",
    "    Parameters\n",
    "    ----------\n",
    "    fin : file handle\n",
    "        file to read from\n",
    "    Returns\n",
    "    -------\n",
    "    fin : open file\n",
    "    xyz : namedtuple\n",
    "        returns a named tuple with coords, title and list of atomtypes.\n",
    "    See Also\n",
    "    --------\n",
    "    write_xyz\n",
    "    \"\"\"\n",
    "    natoms = int(fin.readline())\n",
    "    title = fin.readline()[:-1]\n",
    "    coords = np.zeros([natoms, 3], dtype=\"float64\")\n",
    "    atomtypes = []\n",
    "    for x in coords:\n",
    "        line = fin.readline().split()\n",
    "        atomtypes.append(line[0])\n",
    "        x[:] = list(map(float, line[1:4]))\n",
    "\n",
    "    return namedtuple(\"XYZFile\", [\"coords\", \"title\", \"atomtypes\"]) \\\n",
    "        (coords, title, atomtypes)"
   ]
  },
  {
   "cell_type": "code",
   "execution_count": 18,
   "metadata": {},
   "outputs": [],
   "source": [
    "with open(traj_file) as f:\n",
    "    xyz = read_xyz(f)"
   ]
  },
  {
   "cell_type": "code",
   "execution_count": 19,
   "metadata": {},
   "outputs": [],
   "source": [
    "coords = xyz[0]"
   ]
  },
  {
   "cell_type": "code",
   "execution_count": 20,
   "metadata": {},
   "outputs": [
    {
     "data": {
      "text/plain": [
       "(384, 3)"
      ]
     },
     "execution_count": 20,
     "metadata": {},
     "output_type": "execute_result"
    }
   ],
   "source": [
    "coords.shape"
   ]
  },
  {
   "cell_type": "code",
   "execution_count": 21,
   "metadata": {},
   "outputs": [],
   "source": [
    "def com(m, r):\n",
    "    \"\"\"\n",
    "    Calculate COM for a series of masses m\n",
    "    at positions r.\n",
    "    \n",
    "    m is an array of masses of length n\n",
    "    r is an array of positions of size n x 3\n",
    "    \"\"\"\n",
    "    return np.dot(m, r) / np.sum(m)"
   ]
  },
  {
   "cell_type": "code",
   "execution_count": 22,
   "metadata": {},
   "outputs": [],
   "source": [
    "# masses for water molecule \n",
    "# O, H, H in amu\n",
    "masses = (15.999, 1.00784, 1.00784)"
   ]
  },
  {
   "cell_type": "code",
   "execution_count": 23,
   "metadata": {},
   "outputs": [
    {
     "name": "stdout",
     "output_type": "stream",
     "text": [
      "[12.96409325  2.77684402  9.86982848]\n"
     ]
    }
   ],
   "source": [
    "com_1 = com(masses, coords[:3])\n",
    "print(com_1)"
   ]
  },
  {
   "cell_type": "code",
   "execution_count": 24,
   "metadata": {},
   "outputs": [
    {
     "data": {
      "text/plain": [
       "array([[ 0.01770675,  0.06167598,  0.02389152],\n",
       "       [-0.01259325, -0.27274402, -0.90513848],\n",
       "       [-0.26849325, -0.70633402,  0.52587152]])"
      ]
     },
     "execution_count": 24,
     "metadata": {},
     "output_type": "execute_result"
    }
   ],
   "source": [
    "# translate system so that COM of given molecule is at origin\n",
    "coords_transl = coords - com_1\n",
    "coords_transl[:3]"
   ]
  },
  {
   "cell_type": "code",
   "execution_count": 25,
   "metadata": {},
   "outputs": [],
   "source": [
    "from math import *"
   ]
  },
  {
   "cell_type": "code",
   "execution_count": 26,
   "metadata": {},
   "outputs": [],
   "source": [
    "def R_2vect(R, vector_orig, vector_fin):\n",
    "    \"\"\"Calculate the rotation matrix required to rotate from one vector to another.\n",
    "    For the rotation of one vector to another, there are an infinit series of rotation matrices\n",
    "    possible.  Due to axially symmetry, the rotation axis can be any vector lying in the symmetry\n",
    "    plane between the two vectors.  Hence the axis-angle convention will be used to construct the\n",
    "    matrix with the rotation axis defined as the cross product of the two vectors.  The rotation\n",
    "    angle is the arccosine of the dot product of the two unit vectors.\n",
    "    Given a unit vector parallel to the rotation axis, w = [x, y, z] and the rotation angle a,\n",
    "    the rotation matrix R is::\n",
    "              |  1 + (1-cos(a))*(x*x-1)   -z*sin(a)+(1-cos(a))*x*y   y*sin(a)+(1-cos(a))*x*z |\n",
    "        R  =  |  z*sin(a)+(1-cos(a))*x*y   1 + (1-cos(a))*(y*y-1)   -x*sin(a)+(1-cos(a))*y*z |\n",
    "              | -y*sin(a)+(1-cos(a))*x*z   x*sin(a)+(1-cos(a))*y*z   1 + (1-cos(a))*(z*z-1)  |\n",
    "    @param R:           The 3x3 rotation matrix to update.\n",
    "    @type R:            3x3 numpy array\n",
    "    @param vector_orig: The unrotated vector defined in the reference frame.\n",
    "    @type vector_orig:  numpy array, len 3\n",
    "    @param vector_fin:  The rotated vector defined in the reference frame.\n",
    "    @type vector_fin:   numpy array, len 3\n",
    "    \"\"\"\n",
    "\n",
    "    # Convert the vectors to unit vectors.\n",
    "    vector_orig = vector_orig / np.linalg.norm(vector_orig)\n",
    "    vector_fin = vector_fin / np.linalg.norm(vector_fin)\n",
    "\n",
    "    # The rotation axis (normalised).\n",
    "    axis = np.cross(vector_orig, vector_fin)\n",
    "    axis_len = np.linalg.norm(axis)\n",
    "    if axis_len != 0.0:\n",
    "        axis = axis / axis_len\n",
    "\n",
    "    # Alias the axis coordinates.\n",
    "    x = axis[0]\n",
    "    y = axis[1]\n",
    "    z = axis[2]\n",
    "\n",
    "    # The rotation angle.\n",
    "    angle = acos(np.dot(vector_orig, vector_fin))\n",
    "\n",
    "    # Trig functions (only need to do this maths once!).\n",
    "    ca = cos(angle)\n",
    "    sa = sin(angle)\n",
    "\n",
    "    # Calculate the rotation matrix elements.\n",
    "    R[0,0] = 1.0 + (1.0 - ca)*(x**2 - 1.0)\n",
    "    R[0,1] = -z*sa + (1.0 - ca)*x*y\n",
    "    R[0,2] = y*sa + (1.0 - ca)*x*z\n",
    "    R[1,0] = z*sa+(1.0 - ca)*x*y\n",
    "    R[1,1] = 1.0 + (1.0 - ca)*(y**2 - 1.0)\n",
    "    R[1,2] = -x*sa+(1.0 - ca)*y*z\n",
    "    R[2,0] = -y*sa+(1.0 - ca)*x*z\n",
    "    R[2,1] = x*sa+(1.0 - ca)*y*z\n",
    "    R[2,2] = 1.0 + (1.0 - ca)*(z**2 - 1.0)\n"
   ]
  },
  {
   "cell_type": "code",
   "execution_count": 27,
   "metadata": {},
   "outputs": [],
   "source": [
    "# principle axis goes through oxygen and COM\n",
    "# rotate system so that principle axis aligns with z-axis of box\n",
    "R1 = np.zeros((3,3))\n",
    "R_2vect(R1, coords_transl[0], (0, 0, 1))\n",
    "\n",
    "coords_rot = np.matmul(R1, coords_transl.T).T"
   ]
  },
  {
   "cell_type": "code",
   "execution_count": 28,
   "metadata": {},
   "outputs": [
    {
     "data": {
      "text/plain": [
       "array([[-4.08135171e-18, -2.38359371e-18,  6.84708704e-02],\n",
       "       [ 2.69200963e-01,  7.08799106e-01, -5.64763869e-01],\n",
       "       [-2.69200963e-01, -7.08799106e-01, -5.22179947e-01],\n",
       "       [ 3.14194507e-01, -4.06812436e+00,  4.43097534e-01],\n",
       "       [ 2.95377168e-01, -4.75624816e+00,  1.11113410e+00],\n",
       "       [ 1.16665562e+00, -3.61771422e+00,  5.61348164e-01],\n",
       "       [-4.20826028e+00,  7.81780908e+00, -3.31782518e+00],\n",
       "       [-5.08308704e+00,  7.35367375e+00, -3.44962281e+00],\n",
       "       [-3.74215780e+00,  7.34783032e+00, -2.59158673e+00],\n",
       "       [-4.93870287e+00,  8.54862276e+00,  3.19622384e+00]])"
      ]
     },
     "execution_count": 28,
     "metadata": {},
     "output_type": "execute_result"
    }
   ],
   "source": [
    "coords_rot[:10]"
   ]
  },
  {
   "cell_type": "code",
   "execution_count": 37,
   "metadata": {},
   "outputs": [
    {
     "name": "stdout",
     "output_type": "stream",
     "text": [
      "[0.0, -0.0, 0.0]\n"
     ]
    }
   ],
   "source": [
    "com_1 = com(masses, coords_rot[:3])\n",
    "print(list(map(round, com_1)))"
   ]
  },
  {
   "cell_type": "code",
   "execution_count": 50,
   "metadata": {},
   "outputs": [],
   "source": [
    " from scipy.spatial.transform import Rotation as R"
   ]
  },
  {
   "cell_type": "code",
   "execution_count": 61,
   "metadata": {},
   "outputs": [],
   "source": [
    "# secondary axis goes through hydrogens\n",
    "# rotate projection around z-axis so O-H vectors are in xz plane\n",
    "\n",
    "# R2 = np.zeros((3,3))\n",
    "# HH_vec = coords_rot[1] - coords_rot[2]\n",
    "# R_2vect(R2, HH_vec, (1, 0, 0))\n",
    "\n",
    "# angle in x-y plane\n",
    "theta = atan(coords_rot[1,1] / coords_rot[1,0])\n",
    "# rotate about z-axis \n",
    "R2  = R.from_euler('z', -theta)\n",
    "\n",
    "\n",
    "coords_rot_2 = R2.apply(coords_rot)"
   ]
  },
  {
   "cell_type": "code",
   "execution_count": 62,
   "metadata": {},
   "outputs": [
    {
     "data": {
      "text/plain": [
       "array([[-3.67739057e-18,  2.96913276e-18,  6.84708704e-02],\n",
       "       [ 7.58198742e-01,  1.11022302e-16, -5.64763869e-01],\n",
       "       [-7.58198742e-01, -3.32511796e-14, -5.22179947e-01],\n",
       "       [-3.69151423e+00, -1.73812447e+00,  4.43097534e-01],\n",
       "       [-4.34148522e+00, -1.96485378e+00,  1.11113410e+00],\n",
       "       [-2.96778096e+00, -2.37512477e+00,  5.61348164e-01],\n",
       "       [ 5.81429133e+00,  6.70981443e+00, -3.31782518e+00],\n",
       "       [ 5.06978612e+00,  7.36285000e+00, -3.44962281e+00],\n",
       "       [ 5.54042476e+00,  6.10721286e+00, -2.59158673e+00],\n",
       "       [ 6.23814356e+00,  7.65214362e+00,  3.19622384e+00]])"
      ]
     },
     "execution_count": 62,
     "metadata": {},
     "output_type": "execute_result"
    }
   ],
   "source": [
    "coords_rot_2[:10]"
   ]
  },
  {
   "cell_type": "code",
   "execution_count": 63,
   "metadata": {},
   "outputs": [
    {
     "name": "stdout",
     "output_type": "stream",
     "text": [
      "[-0.0, -0.0, 0.0]\n"
     ]
    }
   ],
   "source": [
    "com_2 = com(masses, coords_rot_2[:3])\n",
    "print(list(map(round, com_2)))"
   ]
  },
  {
   "cell_type": "code",
   "execution_count": 38,
   "metadata": {},
   "outputs": [],
   "source": [
    "from mpl_toolkits.mplot3d import Axes3D"
   ]
  },
  {
   "cell_type": "code",
   "execution_count": 45,
   "metadata": {},
   "outputs": [
    {
     "data": {
      "text/plain": [
       "Text(0.5, 0, 'z')"
      ]
     },
     "execution_count": 45,
     "metadata": {},
     "output_type": "execute_result"
    },
    {
     "data": {
      "image/png": "[encoded data removed]",
      "text/plain": [
       "<Figure size 432x288 with 1 Axes>"
      ]
     },
     "metadata": {
      "needs_background": "light"
     },
     "output_type": "display_data"
    }
   ],
   "source": [
    "fig = plt.figure()\n",
    "ax = fig.add_subplot(111, projection='3d')\n",
    "ax.scatter(coords_rot[0,:3], coords_rot[1,:3], coords_rot[2,:3])\n",
    "ax.set_xlabel('x')\n",
    "ax.set_ylabel('y')\n",
    "ax.set_zlabel('z')"
   ]
  },
  {
   "cell_type": "code",
   "execution_count": 64,
   "metadata": {},
   "outputs": [
    {
     "data": {
      "text/plain": [
       "Text(0.5, 0, 'z')"
      ]
     },
     "execution_count": 64,
     "metadata": {},
     "output_type": "execute_result"
    },
    {
     "data": {
      "image/png": "[encoded data removed]",
      "text/plain": [
       "<Figure size 432x288 with 1 Axes>"
      ]
     },
     "metadata": {
      "needs_background": "light"
     },
     "output_type": "display_data"
    }
   ],
   "source": [
    "fig = plt.figure()\n",
    "ax = fig.add_subplot(111, projection='3d')\n",
    "ax.scatter(coords_rot_2[0,:3], coords_rot_2[1,:3], coords_rot_2[2,:3])\n",
    "ax.set_xlabel('x')\n",
    "ax.set_ylabel('y')\n",
    "ax.set_zlabel('z')"
   ]
  },
  {
   "cell_type": "markdown",
   "metadata": {},
   "source": [
    "# write new positions to xyz file"
   ]
  },
  {
   "cell_type": "markdown",
   "metadata": {},
   "source": [
    "# repeat for all water molecules"
   ]
  },
  {
   "cell_type": "code",
   "execution_count": null,
   "metadata": {},
   "outputs": [],
   "source": []
  }
 ],
 "metadata": {
  "kernelspec": {
   "display_name": "Python 3",
   "language": "python",
   "name": "python3"
  },
  "language_info": {
   "codemirror_mode": {
    "name": "ipython",
    "version": 3
   },
   "file_extension": ".py",
   "mimetype": "text/x-python",
   "name": "python",
   "nbconvert_exporter": "python",
   "pygments_lexer": "ipython3",
   "version": "3.7.5"
  }
 },
 "nbformat": 4,
 "nbformat_minor": 2
}
